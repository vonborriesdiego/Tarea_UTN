{
 "cells": [
  {
   "cell_type": "markdown",
   "metadata": {},
   "source": [
    "# Trabajo de Investigación - Herramientas de Python para Machine Learning.\n",
    "\n",
    "Realice un trabajo de investigación de las distintas herramientas que brinda Python para trabajar con Machine Learning separando por temas que cubre cada plataforma. Centrarse en Scikit-Learn y TensorFlow."
   ]
  },
  {
   "cell_type": "markdown",
   "metadata": {},
   "source": [
    "## Librerías empleadas para manipulación de datos."
   ]
  },
  {
   "cell_type": "markdown",
   "metadata": {},
   "source": [
    "Las librerías son una colecció de metodos y funciones que permiten desarrollar una ámplia variedad de acciones sin la necesidad de escribir código. \n",
    "\n",
    "Dando un enfoque a las librerías de Python:\n",
    "1. Librerías de Computación Científica. \n",
    "2. Librerías de Visualización.\n",
    "3. Librerías Machine Learning & Deep Learning.\n",
    "4. Librerías de Deep Learning."
   ]
  },
  {
   "cell_type": "markdown",
   "metadata": {},
   "source": [
    "### 1. Librerías de Computación Científica."
   ]
  },
  {
   "cell_type": "markdown",
   "metadata": {},
   "source": [
    "Las librerías/bibliotecas usualmente contienen módulos integrados (built - in modules), que brindan diferentes funcionalidades que pueden ser empleadas directamente; a estas se las conoce como \"frameworks\". \n",
    "También existen una amplia gama de librerías que ofrecen multiples facilidades. "
   ]
  },
  {
   "cell_type": "markdown",
   "metadata": {},
   "source": [
    "* __Pandas__"
   ]
  },
  {
   "cell_type": "markdown",
   "metadata": {},
   "source": [
    "* Ofrece estructura a los datos y herramientas para una limpieza, manipulación y análisis eficiente de los datos.\n",
    "* Provee herramientas para trabajar con distintos tipos de datos.\n",
    "* El instrumento principal de pandas es una tabla de dos dimensiones que consta de filas y columnas, a dicha tabla se la conoce como 'DataFrame' y está diseñada para proporcionar indexación sencilla para que se pueda trabajar de una manera eficaz con los datos."
   ]
  },
  {
   "cell_type": "markdown",
   "metadata": {},
   "source": [
    "* __NumPy__ "
   ]
  },
  {
   "cell_type": "markdown",
   "metadata": {},
   "source": [
    "* Las lirerías de Numpy se basan en arreglos (arrays), permitiendo así poder aplicar funciones matemáticas a dichos arreglos.\n",
    "* Es una herramients muy útil a la hora de procesar datos ya que contiene funcionalidades para arreglos/matrices multidimensionales, funciones matemáticas avanzadas (High - Level) como operaciones de algebra lineal y transformadas de Fourier.\n",
    "* En Scikit-Learn los arreglos de NumPy son la estructura de datos fundamental, ya que Scikit-Learn toma datos en forma de arreglos de NumPy."
   ]
  },
  {
   "cell_type": "markdown",
   "metadata": {},
   "source": [
    "### 2. Librerías de Visualización."
   ]
  },
  {
   "cell_type": "markdown",
   "metadata": {},
   "source": [
    "Los métodos de visualización de datos son la manera mas conveniente de comunicar con los interesados los resultados más significativos del análisis.\n",
    "Dichas librerías permiten la creación de gráficos, cuadros (charts) y mapas."
   ]
  },
  {
   "cell_type": "markdown",
   "metadata": {},
   "source": [
    "* __Matplotlib__"
   ]
  },
  {
   "cell_type": "markdown",
   "metadata": {},
   "source": [
    "* Es la librería más conocida para la visualización de los datos y es excelente a la hora de realizar gráficos y diagramas (plots). \n",
    "* Los gráficos son altamente personalizables.\n",
    "* Visualizar los datos y diferentes aspectos de tu análisis puede otorgar 'insights' importantes."
   ]
  },
  {
   "cell_type": "markdown",
   "metadata": {},
   "source": [
    "* __Seaborn__"
   ]
  },
  {
   "cell_type": "markdown",
   "metadata": {},
   "source": [
    "* Basado en Matplotlib, Seaborn facilita el trabajo de generar diagramas como series de tiempo, mapas de calor y diagramas de violín.\n",
    "* Sus funciones para crear diagramas operan en dataframes y arreglos que contienen todos los datasets e internamente desrrollan el mapeamento y agregació estadística necesario para generar diagramas informativos."
   ]
  },
  {
   "cell_type": "markdown",
   "metadata": {},
   "source": [
    "### 3. Librerías Machine Learning y Deep Learning."
   ]
  },
  {
   "cell_type": "markdown",
   "metadata": {},
   "source": [
    "* __Scikit-Learn__"
   ]
  },
  {
   "cell_type": "markdown",
   "metadata": {},
   "source": [
    "* Las librería Scikit-Learn contiene herramientas para modelado estadístico incluyendo regresión, clasificación, clustering y otros.\n",
    "* Esta basado en NumPy, ScyPy y Matplotlib.\n",
    "* Es relativamente sencillo de usar, para un enfoque de alto nivel solo basta con definir el modelo y los parámetros a utilizar.\n",
    "* Cuenta con la gran ventaja de ser un proyecto de código abierto, por el cual su uso y distribució es libre y cualquiera puede obtener el código fuente.\n",
    "* Contiene algoritmos de Machine Learnign en su etapa más reciente de desarrollo como documentación completa de cada uno.\n",
    "* Tiene un amplio uso en industiras y academias.\n",
    "* Se lleva bien con un número de herramientas científicas de Python."
   ]
  },
  {
   "cell_type": "markdown",
   "metadata": {},
   "source": [
    "* __Keras__"
   ]
  },
  {
   "cell_type": "markdown",
   "metadata": {},
   "source": [
    "* Empleado bastante para modelos de Deep Learning.\n",
    "* Permite construir el modelo standard de Deep Learning.\n",
    "* Como en Scikit-Learn, la interface de alto nivel permite construir modelos de una manera rápida y sencilla.\n",
    "* Puede funcionar empleando una unidad de procesamiento gráfico (GPU), pero en la mayoría de los modelos de Deep Learning un entorno de bajo nivel es suficiente."
   ]
  },
  {
   "cell_type": "markdown",
   "metadata": {},
   "source": [
    "### 4. Librerías de Deep Learning."
   ]
  },
  {
   "cell_type": "markdown",
   "metadata": {},
   "source": [
    "* __TensorFlow__"
   ]
  },
  {
   "cell_type": "markdown",
   "metadata": {},
   "source": [
    "* Es un framework de bajo nivel empleado en la producción de modelos de Deep Learning a gran escala.\n",
    "* Es diseñado para producción pero puede ser difícil de manejar para la experimentación.\n",
    "* Construcción de modelos de una manera sencilla, ofrece múltiples niveles de extracción.\n",
    "* Construcción y entrenamiento de modelos utilizando el API de alto nivel de Keras, lo cuál facilita a principiantes en empezar con TensorFlow y construir los modelos de manera sencilla.\n",
    "* Otorga la capacidad de construir y entrenar modelos en su etapa más reciente de desarrollo sin la necesidad de perder la velocidad de desarrollo.\n",
    "* Compañias multinacionales como Coca Cola, airbnb, Google, Twitter emplean con mucha frecuencia esta herramienta."
   ]
  },
  {
   "cell_type": "markdown",
   "metadata": {},
   "source": [
    "* __PyTorch__"
   ]
  },
  {
   "cell_type": "markdown",
   "metadata": {},
   "source": [
    "* Es una herramienta empleada para desarrollar modelos de experimentación, facilitando la tarea a los investigadores para probar sus ideas.\n",
    "* Es una librería optimizada para modelos de Deep Learning empleando GPUs o CPUs.\n",
    "* Es un software de código abierto el cual primeramente fue desarrollado por Facebook's AI Research Lab (FAIR)."
   ]
  },
  {
   "cell_type": "markdown",
   "metadata": {},
   "source": [
    "* __ApacheSpark__"
   ]
  },
  {
   "cell_type": "markdown",
   "metadata": {},
   "source": [
    "* Es un framework de computación de clústeres de propósito general que permite procesar datos usando clústeres informáticos.\n",
    "* Lo que significa que se procesa datos en paralelo, empleando múltiples computadoras simultáneamente.\n",
    "* La librería Spark contiene funcionalidades similares a Pandas, NumPy y Scikit-Learn.\n",
    "* Los trabajos de procesamiento de datos de Apache Spark pueden emplear Python, R, Scala or SQL."
   ]
  },
  {
   "cell_type": "markdown",
   "metadata": {},
   "source": [
    "* __Referencias__"
   ]
  },
  {
   "cell_type": "markdown",
   "metadata": {},
   "source": [
    "* [Coursera/Tools for Data Science](https://www.coursera.org/learn/open-source-tools-for-data-science?)\n",
    "* [Scikit-Learn](https://scikit-learn.org/stable/index.html)\n",
    "* [TensorFlow](https://www.tensorflow.org/about)\n",
    "* [PyTorch](https://pytorch.org/)\n",
    "* [Seaborn](https://seaborn.pydata.org/)\n",
    "* Andreas C. Müller & Sarah Guido. (2017). Introduction to Machine Learning with Python. 1005 Gravenstein Highway North, Sebastopol, CA 95472.: O'Reilly .\n",
    "* Rachel Schutt & Cathy O'Neil. (2014). Doing Data Science . 1005 Gravenstein Highway North, Sebastopol, CA 95472: O'Reilly."
   ]
  }
 ],
 "metadata": {
  "kernelspec": {
   "display_name": "Python 3",
   "language": "python",
   "name": "python3"
  },
  "language_info": {
   "codemirror_mode": {
    "name": "ipython",
    "version": 3
   },
   "file_extension": ".py",
   "mimetype": "text/x-python",
   "name": "python",
   "nbconvert_exporter": "python",
   "pygments_lexer": "ipython3",
   "version": "3.8.5"
  }
 },
 "nbformat": 4,
 "nbformat_minor": 4
}
