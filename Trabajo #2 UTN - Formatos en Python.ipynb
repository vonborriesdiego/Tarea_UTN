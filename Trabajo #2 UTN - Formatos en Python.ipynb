{
 "cells": [
  {
   "cell_type": "markdown",
   "metadata": {},
   "source": [
    "# Trabajo sobre Pandas\n",
    "\n",
    "Investigue si pandas puede utilizar formatos diferentes a los vistos en la unidad y de un ejemplo de uso."
   ]
  },
  {
   "cell_type": "markdown",
   "metadata": {},
   "source": [
    "Al pertenecer al vasto mundo de Ciencias de Datos los distintos ingenieros, científicos, estadísticos o personal en general que esté relacionado con dicha área debe familiarizarse con los distintos tipos de datos con los que se pueden trabajar, como también los múltiples formatos de procedencia de dichos datos.\n",
    "\n",
    "Trabajar con diferentes formatos puede representar una tarea complicada y tediosa, por ello es de suma importancia estar famuiliarizado con ellos ya que en la vida cotidiana para una persona que trabaja con datos está consciente de que en el mundo real son pocas las ocaciones con las que se trabajan con datos estructurados.\n",
    "\n",
    "El formato con el cuál trabajamos usualmente está relacionado con el tipo de aplicación o programa que querramos desarrollar, si vamos a procesar imágenes es indispensable que los datos tanto de entrada como de salida sean imágenes en formato jpg, png o gif.\n",
    "\n",
    "Al trabajar con diferentes fuentes de datos representa una gran ventaja entender y estar familiarizado con las diversas estructuras que los distintos formatos presentan, ya que nos permitirá poder explorar los datos y tratar de hallar patrones que puedan sernos útil a la hora de tomar alguna decisión importante, como también nos permitirá generar una buena toma de decisión en la forma de almacenarlos.\n",
    "\n",
    "Escoger la forma más adecuada de almacenar los datos puede darnos una mejora en el rendimiento de nuestro a la hora de procesar nuestros datos.  \n",
    "\n",
    "Alguno de los distintos formatos que se pueden leer en Python son los siguientes (que no vimos en el documento presentado por el profesor):\n",
    "\n",
    "* ZIP\n",
    "* Images\n",
    "* PDF\n",
    "* DOCX\n",
    "* MP4"
   ]
  },
  {
   "cell_type": "markdown",
   "metadata": {},
   "source": [
    "### 1. ZIP"
   ]
  },
  {
   "cell_type": "markdown",
   "metadata": {},
   "source": [
    "ZIP es un formato de archivo de almacenamiento que admite la compresión de datos sin pérdida. Por compresión sin pérdidas, se referencia a que el algoritmo de compresión permite que los datos originales se reconstruyan perfectamente a partir de los datos comprimidos. \n",
    "Por lo tanto, un archivo ZIP es un archivo único que contiene uno o más archivos comprimidos, lo que ofrece una forma ideal de reducir el tamaño de los archivos grandes y mantener juntos los archivos relacionados.\n",
    "\n",
    "Al ser ZIP un formato de archivo de almacenamiento, es empleado para recopilar varios archivos de datos en un solo archivo, con la simple finalidad de comprimir los archivos para usar menos espacio de almacenamiento. \n",
    "Por ende, un formaro de archivo ZIP es un formato de comprensión sin pérdidas, lo que significa si se comprime varios archivos usando el formato ZIP, se pueden recuperar completamente los datos después de descomprimir el archivo ZIP.\n",
    "\n",
    "Existen múltiples formatos de archivo de datos informáticos para crear archivos de almacenamiento. ZIP, RAR Y TAR son los más populares para comprimir los datos.\n"
   ]
  },
  {
   "cell_type": "markdown",
   "metadata": {},
   "source": [
    "```\n",
    "import zipfile\n",
    "archive = zipfile.ZipFile('Nombre del archivo zip.zip', 'r')\n",
    "df = archive.read('Nombre del archivo.csv')\n",
    "```"
   ]
  },
  {
   "cell_type": "markdown",
   "metadata": {},
   "source": [
    "### 2. Images"
   ]
  },
  {
   "cell_type": "markdown",
   "metadata": {},
   "source": [
    "Los archivos de imagen son probablemente el formato de archivo más fascinante utilizado en la ciencia de datos. Cualquier aplicación de visión artificial se basa en el procesamiento de imágenes. Por eso es necesario conocer diferentes formatos de archivo de imagen.\n",
    "\n",
    "Los archivos de imagen habituales son tridimensionales y tienen valores RGB. Pero también pueden ser bidimensionales (escala de grises) o cuatridimensionales (con intensidad): una imagen que consta de píxeles y metadatos asociados a ella.\n",
    "\n",
    "Cada imagen consta de uno o más fotogramas de píxeles. Y cada cuadro está formado por una matriz bidimensional de valores de píxeles. Los valores de píxeles pueden ser de cualquier intensidad. Los metadatos asociados con una imagen pueden ser un tipo de imagen (.png) o dimensiones en píxeles.\n"
   ]
  },
  {
   "cell_type": "markdown",
   "metadata": {},
   "source": [
    "```\n",
    "from scipy import misc\n",
    "f = misc.face()\n",
    "misc.imsave('nombre de la imagen.png', f) \n",
    "import matplotlib.pyplot as plt\n",
    "plt.imshow(f)\n",
    "plt.show()\n",
    "```"
   ]
  },
  {
   "cell_type": "markdown",
   "metadata": {},
   "source": [
    "### 3.PDF"
   ]
  },
  {
   "cell_type": "markdown",
   "metadata": {},
   "source": [
    "PDF (Portable Document Format) es un formato muy empleado para la interpretación y visualización de documentos de texto junto con gráficos incorporados. \n",
    "Una característica especial de un archivo PDF es que puede protegerse con una contraseña.\n",
    "\n",
    "Leer un formato PDF a través de un programa es una tarea compleja, para ello podemos hacer uso de bibliotecas que hace un buen trabajo al analizar archivos PDF, una de ellas es PDFMiner. \n",
    "Para leer un archivo PDF a través de PDFMiner, debe:\n",
    "\n",
    "* Descargar PDFMiner e instalaralo a través de su sitio web.\n",
    "* Extraer el archivo PDF con el siguiente código:\n"
   ]
  },
  {
   "cell_type": "markdown",
   "metadata": {},
   "source": [
    "```\n",
    "pdf2txt.py <pdf_file>.pdf\n",
    "```"
   ]
  },
  {
   "cell_type": "markdown",
   "metadata": {},
   "source": [
    "### 4.DOCX"
   ]
  },
  {
   "cell_type": "markdown",
   "metadata": {},
   "source": [
    "El archivo docx de Microsoft Word es otro formato de archivo que las organizaciones utilizan regularmente para datos basados en texto. Tiene muchas características, como la adición en línea de tablas, imágenes, hipervínculos, etc., lo que ayuda a hacer de docx un formato de archivo increíblemente importante.\n",
    "\n",
    "La ventaja de un archivo docx sobre un archivo PDF es que un archivo docx es editable.\n",
    "También puede cambiar un archivo docx a cualquier otro formato.\n",
    "\n",
    "Al igual que los documentos en PDF, Python tiene una librería cuya contribución fue por parte de la comunidad para leer archivos de docx. Se llama python-docx2txt.\n",
    "\n",
    "para instalar la librería es a través del pip:"
   ]
  },
  {
   "cell_type": "markdown",
   "metadata": {},
   "source": [
    "```\n",
    "pip install docx2txt\n",
    "```"
   ]
  },
  {
   "cell_type": "markdown",
   "metadata": {},
   "source": [
    "Para leer un archivo .docx en Python se emplea el siguiente código:"
   ]
  },
  {
   "cell_type": "markdown",
   "metadata": {},
   "source": [
    "```\n",
    "import docx2txt\n",
    "text = docx2txt.process(\"file.docx\")\n",
    "```"
   ]
  },
  {
   "cell_type": "markdown",
   "metadata": {},
   "source": [
    "### 5. MP4"
   ]
  },
  {
   "cell_type": "markdown",
   "metadata": {},
   "source": [
    "El formato de archivo MP4 se utiliza para almacenar videos y películas. \n",
    "Contiene varias imágenes (llamadas fotogramas), que se reproducen en forma de video según un período de tiempo específico. \n",
    "\n",
    "Hay dos métodos para interpretar un archivo mp4, el primero es mediante una entidad cerrada, en la que todo el video se considera como una sola entidad y el segundo es a través del mosaico de imágenes, donde cada imagen del video es considerada como una entidad diferente y estas imágenes son muestreadas del video.\n",
    "\n",
    "También cuenta con una librería contribuida por la comunidad para leer y editar archivos mp4 llamada \"MoviePy\".\n",
    "\n",
    "Para leer un video clip mp4 en python se usa el siguiente código:\n"
   ]
  },
  {
   "cell_type": "markdown",
   "metadata": {},
   "source": [
    "```\n",
    "from moviepy.editor import VideoFileClip\n",
    "clip = VideoFileClip(‘<video_file>.mp4’)\n",
    "```"
   ]
  },
  {
   "cell_type": "markdown",
   "metadata": {},
   "source": [
    "Luego se puede desplegar en Jupyter Notebook de la siguiente manera:"
   ]
  },
  {
   "cell_type": "markdown",
   "metadata": {},
   "source": [
    "```\n",
    "ipython_display(clip)\n",
    "```"
   ]
  },
  {
   "cell_type": "markdown",
   "metadata": {},
   "source": [
    "### Referencias"
   ]
  },
  {
   "cell_type": "markdown",
   "metadata": {},
   "source": [
    "* https://www.analyticsvidhya.com/blog/2017/03/read-commonly-used-formats-using-python/\n",
    "* https://www.geeksforgeeks.org/working-zip-files-python/\n",
    "* https://www.analyticsvidhya.com/blog/2020/04/how-to-read-common-file-formats-python/\n",
    "* https://okfnlabs.org/blog/2013/10/17/python-guide-for-file-formats.html"
   ]
  }
 ],
 "metadata": {
  "kernelspec": {
   "display_name": "Python 3",
   "language": "python",
   "name": "python3"
  },
  "language_info": {
   "codemirror_mode": {
    "name": "ipython",
    "version": 3
   },
   "file_extension": ".py",
   "mimetype": "text/x-python",
   "name": "python",
   "nbconvert_exporter": "python",
   "pygments_lexer": "ipython3",
   "version": "3.8.5"
  }
 },
 "nbformat": 4,
 "nbformat_minor": 4
}
